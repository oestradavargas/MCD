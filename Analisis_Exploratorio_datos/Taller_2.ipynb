{
 "cells": [
  {
   "cell_type": "markdown",
   "metadata": {},
   "source": [
    "## TALLER DE PRACTICA 2\n",
    "\n",
    "Diana Arias - Andrea valencia - Daniel Rengifo - Jovani Cely - Oscar Estrada"
   ]
  },
  {
   "cell_type": "markdown",
   "metadata": {},
   "source": [
    "#### 1. Objetivo del proyecto de analitica\n",
    "\n",
    "Explorar el estado de los datos y la relacion entre las caracteristicas socio-demograficas y los puntajes de las competencias evaluadas en las pruebas Saber TyT de los estudiantes de la institucion Educando Lideres en el año 2016"
   ]
  },
  {
   "cell_type": "code",
   "execution_count": 1,
   "metadata": {},
   "outputs": [],
   "source": [
    "import pandas as pd\n",
    "import warnings\n",
    "warnings.filterwarnings('ignore')\n",
    "import matplotlib.pyplot as plt\n",
    "import seaborn as sns\n",
    "import datetime"
   ]
  },
  {
   "cell_type": "markdown",
   "metadata": {},
   "source": [
    "#### 2. Cargar base de datos y revisar errores\n",
    "\n",
    "Se revisan caracteres y se asignan NaNs"
   ]
  },
  {
   "cell_type": "code",
   "execution_count": 2,
   "metadata": {},
   "outputs": [
    {
     "data": {
      "text/html": [
       "<div>\n",
       "<style scoped>\n",
       "    .dataframe tbody tr th:only-of-type {\n",
       "        vertical-align: middle;\n",
       "    }\n",
       "\n",
       "    .dataframe tbody tr th {\n",
       "        vertical-align: top;\n",
       "    }\n",
       "\n",
       "    .dataframe thead th {\n",
       "        text-align: right;\n",
       "    }\n",
       "</style>\n",
       "<table border=\"1\" class=\"dataframe\">\n",
       "  <thead>\n",
       "    <tr style=\"text-align: right;\">\n",
       "      <th></th>\n",
       "      <th>ESTU_TIPODOCUMENTO</th>\n",
       "      <th>ESTU_NACIONALIDAD</th>\n",
       "      <th>ESTU_GENERO</th>\n",
       "      <th>ESTU_FECHANACIMIENTO</th>\n",
       "      <th>PERIODO</th>\n",
       "      <th>ESTU_CONSECUTIVO</th>\n",
       "      <th>ESTU_ESTUDIANTE</th>\n",
       "      <th>ESTU_ESTADOCIVIL</th>\n",
       "      <th>ESTU_TIENE_ETNIA</th>\n",
       "      <th>ESTU_ETNIA</th>\n",
       "      <th>...</th>\n",
       "      <th>MOD_INGLES_DESEM</th>\n",
       "      <th>MOD_INGLES_PNAL</th>\n",
       "      <th>MOD_INGLES_PGREF</th>\n",
       "      <th>MOD_COMUNI_ESCRITA_PUNT</th>\n",
       "      <th>MOD_COMUNI_ESCRITA_DESEM</th>\n",
       "      <th>MOD_COMUNI_ESCRITA_PNAL</th>\n",
       "      <th>MOD_COMUNI_ESCRITA_PGREF</th>\n",
       "      <th>ESTU_ESTADO</th>\n",
       "      <th>INSE</th>\n",
       "      <th>NSE</th>\n",
       "    </tr>\n",
       "  </thead>\n",
       "  <tbody>\n",
       "    <tr>\n",
       "      <th>0</th>\n",
       "      <td>CC</td>\n",
       "      <td>1 COLOMBIA</td>\n",
       "      <td>M</td>\n",
       "      <td>15/08/1990</td>\n",
       "      <td>20164</td>\n",
       "      <td>EK201640024941</td>\n",
       "      <td>ESTUDIANTE</td>\n",
       "      <td>UNIÓN LIBRE</td>\n",
       "      <td>NO</td>\n",
       "      <td>NaN</td>\n",
       "      <td>...</td>\n",
       "      <td>A2</td>\n",
       "      <td>79</td>\n",
       "      <td>59</td>\n",
       "      <td>121.0</td>\n",
       "      <td>4.0</td>\n",
       "      <td>87.0</td>\n",
       "      <td>85.0</td>\n",
       "      <td>PUBLICAR</td>\n",
       "      <td>57,14241052</td>\n",
       "      <td>NSE3</td>\n",
       "    </tr>\n",
       "    <tr>\n",
       "      <th>1</th>\n",
       "      <td>CC</td>\n",
       "      <td>1 COLOMBIA</td>\n",
       "      <td>M</td>\n",
       "      <td>26/09/1990</td>\n",
       "      <td>20164</td>\n",
       "      <td>EK201640012159</td>\n",
       "      <td>ESTUDIANTE</td>\n",
       "      <td>SOLTERO</td>\n",
       "      <td>NaN</td>\n",
       "      <td>NaN</td>\n",
       "      <td>...</td>\n",
       "      <td>A2</td>\n",
       "      <td>75</td>\n",
       "      <td>74</td>\n",
       "      <td>123.0</td>\n",
       "      <td>4.0</td>\n",
       "      <td>89.0</td>\n",
       "      <td>87.0</td>\n",
       "      <td>PUBLICAR</td>\n",
       "      <td>65,76637176</td>\n",
       "      <td>NSE4</td>\n",
       "    </tr>\n",
       "    <tr>\n",
       "      <th>2</th>\n",
       "      <td>CC</td>\n",
       "      <td>1 COLOMBIA</td>\n",
       "      <td>F</td>\n",
       "      <td>28/10/1994</td>\n",
       "      <td>20164</td>\n",
       "      <td>EK201640041435</td>\n",
       "      <td>ESTUDIANTE</td>\n",
       "      <td>SOLTERO</td>\n",
       "      <td>NO</td>\n",
       "      <td>NaN</td>\n",
       "      <td>...</td>\n",
       "      <td>B1</td>\n",
       "      <td>97</td>\n",
       "      <td>98</td>\n",
       "      <td>99.0</td>\n",
       "      <td>2.0</td>\n",
       "      <td>43.0</td>\n",
       "      <td>44.0</td>\n",
       "      <td>PUBLICAR</td>\n",
       "      <td>47,68199591</td>\n",
       "      <td>NSE2</td>\n",
       "    </tr>\n",
       "    <tr>\n",
       "      <th>3</th>\n",
       "      <td>CC</td>\n",
       "      <td>1 COLOMBIA</td>\n",
       "      <td>F</td>\n",
       "      <td>24/09/1979</td>\n",
       "      <td>20164</td>\n",
       "      <td>EK201640003654</td>\n",
       "      <td>ESTUDIANTE</td>\n",
       "      <td>UNIÓN LIBRE</td>\n",
       "      <td>NO</td>\n",
       "      <td>NaN</td>\n",
       "      <td>...</td>\n",
       "      <td>A1</td>\n",
       "      <td>32</td>\n",
       "      <td>30</td>\n",
       "      <td>75.0</td>\n",
       "      <td>1.0</td>\n",
       "      <td>13.0</td>\n",
       "      <td>11.0</td>\n",
       "      <td>PUBLICAR</td>\n",
       "      <td>55,56398024</td>\n",
       "      <td>NSE3</td>\n",
       "    </tr>\n",
       "    <tr>\n",
       "      <th>4</th>\n",
       "      <td>CC</td>\n",
       "      <td>1 COLOMBIA</td>\n",
       "      <td>M</td>\n",
       "      <td>6/07/1988</td>\n",
       "      <td>20164</td>\n",
       "      <td>EK201640018456</td>\n",
       "      <td>ESTUDIANTE</td>\n",
       "      <td>SOLTERO</td>\n",
       "      <td>NO</td>\n",
       "      <td>NaN</td>\n",
       "      <td>...</td>\n",
       "      <td>A1-</td>\n",
       "      <td>15</td>\n",
       "      <td>19</td>\n",
       "      <td>86.0</td>\n",
       "      <td>2.0</td>\n",
       "      <td>29.0</td>\n",
       "      <td>34.0</td>\n",
       "      <td>PUBLICAR</td>\n",
       "      <td>27,01330074</td>\n",
       "      <td>NSE1</td>\n",
       "    </tr>\n",
       "    <tr>\n",
       "      <th>...</th>\n",
       "      <td>...</td>\n",
       "      <td>...</td>\n",
       "      <td>...</td>\n",
       "      <td>...</td>\n",
       "      <td>...</td>\n",
       "      <td>...</td>\n",
       "      <td>...</td>\n",
       "      <td>...</td>\n",
       "      <td>...</td>\n",
       "      <td>...</td>\n",
       "      <td>...</td>\n",
       "      <td>...</td>\n",
       "      <td>...</td>\n",
       "      <td>...</td>\n",
       "      <td>...</td>\n",
       "      <td>...</td>\n",
       "      <td>...</td>\n",
       "      <td>...</td>\n",
       "      <td>...</td>\n",
       "      <td>...</td>\n",
       "      <td>...</td>\n",
       "    </tr>\n",
       "    <tr>\n",
       "      <th>53035</th>\n",
       "      <td>CC</td>\n",
       "      <td>1 COLOMBIA</td>\n",
       "      <td>M</td>\n",
       "      <td>22/01/1992</td>\n",
       "      <td>20164</td>\n",
       "      <td>EK201640005823</td>\n",
       "      <td>ESTUDIANTE</td>\n",
       "      <td>SOLTERO</td>\n",
       "      <td>NO</td>\n",
       "      <td>NaN</td>\n",
       "      <td>...</td>\n",
       "      <td>A1</td>\n",
       "      <td>38</td>\n",
       "      <td>56</td>\n",
       "      <td>104.0</td>\n",
       "      <td>3.0</td>\n",
       "      <td>57.0</td>\n",
       "      <td>63.0</td>\n",
       "      <td>PUBLICAR</td>\n",
       "      <td>45,34484192</td>\n",
       "      <td>NSE1</td>\n",
       "    </tr>\n",
       "    <tr>\n",
       "      <th>53036</th>\n",
       "      <td>CC</td>\n",
       "      <td>1 COLOMBIA</td>\n",
       "      <td>M</td>\n",
       "      <td>7/07/1992</td>\n",
       "      <td>20164</td>\n",
       "      <td>EK201640005164</td>\n",
       "      <td>ESTUDIANTE</td>\n",
       "      <td>SOLTERO</td>\n",
       "      <td>NO</td>\n",
       "      <td>NaN</td>\n",
       "      <td>...</td>\n",
       "      <td>A1</td>\n",
       "      <td>48</td>\n",
       "      <td>68</td>\n",
       "      <td>75.0</td>\n",
       "      <td>1.0</td>\n",
       "      <td>12.0</td>\n",
       "      <td>15.0</td>\n",
       "      <td>PUBLICAR</td>\n",
       "      <td>39,95548887</td>\n",
       "      <td>NSE1</td>\n",
       "    </tr>\n",
       "    <tr>\n",
       "      <th>53037</th>\n",
       "      <td>CC</td>\n",
       "      <td>1 COLOMBIA</td>\n",
       "      <td>M</td>\n",
       "      <td>7/09/1988</td>\n",
       "      <td>20164</td>\n",
       "      <td>EK201640001818</td>\n",
       "      <td>ESTUDIANTE</td>\n",
       "      <td>UNIÓN LIBRE</td>\n",
       "      <td>NO</td>\n",
       "      <td>NaN</td>\n",
       "      <td>...</td>\n",
       "      <td>A1</td>\n",
       "      <td>31</td>\n",
       "      <td>39</td>\n",
       "      <td>60.0</td>\n",
       "      <td>1.0</td>\n",
       "      <td>2.0</td>\n",
       "      <td>2.0</td>\n",
       "      <td>PUBLICAR</td>\n",
       "      <td>60,76679974</td>\n",
       "      <td>NSE4</td>\n",
       "    </tr>\n",
       "    <tr>\n",
       "      <th>53038</th>\n",
       "      <td>CC</td>\n",
       "      <td>1 COLOMBIA</td>\n",
       "      <td>F</td>\n",
       "      <td>2/02/1994</td>\n",
       "      <td>20164</td>\n",
       "      <td>EK201640011583</td>\n",
       "      <td>ESTUDIANTE</td>\n",
       "      <td>SOLTERO</td>\n",
       "      <td>NO</td>\n",
       "      <td>NaN</td>\n",
       "      <td>...</td>\n",
       "      <td>A1</td>\n",
       "      <td>53</td>\n",
       "      <td>63</td>\n",
       "      <td>122.0</td>\n",
       "      <td>4.0</td>\n",
       "      <td>88.0</td>\n",
       "      <td>89.0</td>\n",
       "      <td>PUBLICAR</td>\n",
       "      <td>69,01629674</td>\n",
       "      <td>NSE4</td>\n",
       "    </tr>\n",
       "    <tr>\n",
       "      <th>53039</th>\n",
       "      <td>CC</td>\n",
       "      <td>1 COLOMBIA</td>\n",
       "      <td>M</td>\n",
       "      <td>15/02/1988</td>\n",
       "      <td>20164</td>\n",
       "      <td>EK201640024848</td>\n",
       "      <td>ESTUDIANTE</td>\n",
       "      <td>SOLTERO</td>\n",
       "      <td>NO</td>\n",
       "      <td>NaN</td>\n",
       "      <td>...</td>\n",
       "      <td>A1-</td>\n",
       "      <td>3</td>\n",
       "      <td>3</td>\n",
       "      <td>118.0</td>\n",
       "      <td>3.0</td>\n",
       "      <td>80.0</td>\n",
       "      <td>80.0</td>\n",
       "      <td>PUBLICAR</td>\n",
       "      <td>41,91417628</td>\n",
       "      <td>NSE1</td>\n",
       "    </tr>\n",
       "  </tbody>\n",
       "</table>\n",
       "<p>53040 rows × 104 columns</p>\n",
       "</div>"
      ],
      "text/plain": [
       "      ESTU_TIPODOCUMENTO ESTU_NACIONALIDAD ESTU_GENERO ESTU_FECHANACIMIENTO  \\\n",
       "0                     CC        1 COLOMBIA           M           15/08/1990   \n",
       "1                     CC        1 COLOMBIA           M           26/09/1990   \n",
       "2                     CC        1 COLOMBIA           F           28/10/1994   \n",
       "3                     CC        1 COLOMBIA           F           24/09/1979   \n",
       "4                     CC        1 COLOMBIA           M            6/07/1988   \n",
       "...                  ...               ...         ...                  ...   \n",
       "53035                 CC        1 COLOMBIA           M           22/01/1992   \n",
       "53036                 CC        1 COLOMBIA           M            7/07/1992   \n",
       "53037                 CC        1 COLOMBIA           M            7/09/1988   \n",
       "53038                 CC        1 COLOMBIA           F            2/02/1994   \n",
       "53039                 CC        1 COLOMBIA           M           15/02/1988   \n",
       "\n",
       "       PERIODO ESTU_CONSECUTIVO ESTU_ESTUDIANTE ESTU_ESTADOCIVIL  \\\n",
       "0        20164   EK201640024941      ESTUDIANTE      UNIÓN LIBRE   \n",
       "1        20164   EK201640012159      ESTUDIANTE          SOLTERO   \n",
       "2        20164   EK201640041435      ESTUDIANTE          SOLTERO   \n",
       "3        20164   EK201640003654      ESTUDIANTE      UNIÓN LIBRE   \n",
       "4        20164   EK201640018456      ESTUDIANTE          SOLTERO   \n",
       "...        ...              ...             ...              ...   \n",
       "53035    20164   EK201640005823      ESTUDIANTE          SOLTERO   \n",
       "53036    20164   EK201640005164      ESTUDIANTE          SOLTERO   \n",
       "53037    20164   EK201640001818      ESTUDIANTE      UNIÓN LIBRE   \n",
       "53038    20164   EK201640011583      ESTUDIANTE          SOLTERO   \n",
       "53039    20164   EK201640024848      ESTUDIANTE          SOLTERO   \n",
       "\n",
       "      ESTU_TIENE_ETNIA ESTU_ETNIA  ... MOD_INGLES_DESEM MOD_INGLES_PNAL  \\\n",
       "0                   NO        NaN  ...               A2              79   \n",
       "1                  NaN        NaN  ...               A2              75   \n",
       "2                   NO        NaN  ...               B1              97   \n",
       "3                   NO        NaN  ...               A1              32   \n",
       "4                   NO        NaN  ...              A1-              15   \n",
       "...                ...        ...  ...              ...             ...   \n",
       "53035               NO        NaN  ...               A1              38   \n",
       "53036               NO        NaN  ...               A1              48   \n",
       "53037               NO        NaN  ...               A1              31   \n",
       "53038               NO        NaN  ...               A1              53   \n",
       "53039               NO        NaN  ...              A1-               3   \n",
       "\n",
       "      MOD_INGLES_PGREF MOD_COMUNI_ESCRITA_PUNT MOD_COMUNI_ESCRITA_DESEM  \\\n",
       "0                   59                   121.0                      4.0   \n",
       "1                   74                   123.0                      4.0   \n",
       "2                   98                    99.0                      2.0   \n",
       "3                   30                    75.0                      1.0   \n",
       "4                   19                    86.0                      2.0   \n",
       "...                ...                     ...                      ...   \n",
       "53035               56                   104.0                      3.0   \n",
       "53036               68                    75.0                      1.0   \n",
       "53037               39                    60.0                      1.0   \n",
       "53038               63                   122.0                      4.0   \n",
       "53039                3                   118.0                      3.0   \n",
       "\n",
       "      MOD_COMUNI_ESCRITA_PNAL  MOD_COMUNI_ESCRITA_PGREF ESTU_ESTADO  \\\n",
       "0                        87.0                      85.0    PUBLICAR   \n",
       "1                        89.0                      87.0    PUBLICAR   \n",
       "2                        43.0                      44.0    PUBLICAR   \n",
       "3                        13.0                      11.0    PUBLICAR   \n",
       "4                        29.0                      34.0    PUBLICAR   \n",
       "...                       ...                       ...         ...   \n",
       "53035                    57.0                      63.0    PUBLICAR   \n",
       "53036                    12.0                      15.0    PUBLICAR   \n",
       "53037                     2.0                       2.0    PUBLICAR   \n",
       "53038                    88.0                      89.0    PUBLICAR   \n",
       "53039                    80.0                      80.0    PUBLICAR   \n",
       "\n",
       "              INSE   NSE  \n",
       "0      57,14241052  NSE3  \n",
       "1      65,76637176  NSE4  \n",
       "2      47,68199591  NSE2  \n",
       "3      55,56398024  NSE3  \n",
       "4      27,01330074  NSE1  \n",
       "...            ...   ...  \n",
       "53035  45,34484192  NSE1  \n",
       "53036  39,95548887  NSE1  \n",
       "53037  60,76679974  NSE4  \n",
       "53038  69,01629674  NSE4  \n",
       "53039  41,91417628  NSE1  \n",
       "\n",
       "[53040 rows x 104 columns]"
      ]
     },
     "execution_count": 2,
     "metadata": {},
     "output_type": "execute_result"
    }
   ],
   "source": [
    "df_full = pd.read_csv('SABERTYT20162.csv', sep=\";\", encoding='ISO-8859-1',  na_values=' ')\n",
    "df_full"
   ]
  },
  {
   "cell_type": "code",
   "execution_count": 3,
   "metadata": {},
   "outputs": [
    {
     "data": {
      "text/plain": [
       "(53040, 104)"
      ]
     },
     "execution_count": 3,
     "metadata": {},
     "output_type": "execute_result"
    }
   ],
   "source": [
    "df_full.shape"
   ]
  },
  {
   "cell_type": "markdown",
   "metadata": {},
   "source": [
    "El dataset contiene 53040 registros en 104 variables, contiene tipo int, float y object. Requiere ajuste de tipos de variables."
   ]
  },
  {
   "cell_type": "code",
   "execution_count": 4,
   "metadata": {},
   "outputs": [],
   "source": [
    "# Filtramos los registros de acuerdo con las instrucciones\n",
    "df = df_full[df_full['ESTU_ESTADO'] == 'PUBLICAR']\n",
    "df = df[df['ESTU_NACIONALIDAD'] == '1 COLOMBIA']"
   ]
  },
  {
   "cell_type": "code",
   "execution_count": 5,
   "metadata": {},
   "outputs": [],
   "source": [
    "# Filtramos las columnas de interes para el ejercicio, para aliviar la carga de procesamiento y memoria\n",
    "df = df[['ESTU_GENERO', 'ESTU_FECHANACIMIENTO', 'ESTU_TIENE_ETNIA', 'ESTU_ETNIA', 'ESTU_LIMITA_MOTRIZ', 'ESTU_LIMITA_INVIDENTE', \n",
    "'ESTU_LIMITA_CONDICIONESPECIAL', 'ESTU_LIMITA_SORDO', 'ESTU_LIMITA_AUTISMO', 'FAMI_ESTRATO_VIVIENDA', 'MOD_RAZONA_CUANTITAT_PUNT',\n",
    "'MOD_LECTURA_CRITICA_PUNT' , 'MOD_COMPETEN_CIUDADA_PUNT', 'MOD_INGLES_PUNT', 'MOD_INGLES_DESEM', 'MOD_COMUNI_ESCRITA_PUNT']]"
   ]
  },
  {
   "cell_type": "markdown",
   "metadata": {},
   "source": [
    "#### 3. Realizar las modificaciones a la base de datos"
   ]
  },
  {
   "cell_type": "code",
   "execution_count": 6,
   "metadata": {},
   "outputs": [
    {
     "name": "stdout",
     "output_type": "stream",
     "text": [
      "<class 'pandas.core.frame.DataFrame'>\n",
      "Index: 52665 entries, 0 to 53039\n",
      "Data columns (total 16 columns):\n",
      " #   Column                         Non-Null Count  Dtype  \n",
      "---  ------                         --------------  -----  \n",
      " 0   ESTU_GENERO                    52663 non-null  object \n",
      " 1   ESTU_FECHANACIMIENTO           52664 non-null  object \n",
      " 2   ESTU_TIENE_ETNIA               48374 non-null  object \n",
      " 3   ESTU_ETNIA                     3086 non-null   object \n",
      " 4   ESTU_LIMITA_MOTRIZ             46 non-null     object \n",
      " 5   ESTU_LIMITA_INVIDENTE          4 non-null      object \n",
      " 6   ESTU_LIMITA_CONDICIONESPECIAL  7 non-null      object \n",
      " 7   ESTU_LIMITA_SORDO              29 non-null     object \n",
      " 8   ESTU_LIMITA_AUTISMO            3 non-null      object \n",
      " 9   FAMI_ESTRATO_VIVIENDA          52663 non-null  object \n",
      " 10  MOD_RAZONA_CUANTITAT_PUNT      52665 non-null  int64  \n",
      " 11  MOD_LECTURA_CRITICA_PUNT       52665 non-null  int64  \n",
      " 12  MOD_COMPETEN_CIUDADA_PUNT      52665 non-null  int64  \n",
      " 13  MOD_INGLES_PUNT                52665 non-null  int64  \n",
      " 14  MOD_INGLES_DESEM               52665 non-null  object \n",
      " 15  MOD_COMUNI_ESCRITA_PUNT        51895 non-null  float64\n",
      "dtypes: float64(1), int64(4), object(11)\n",
      "memory usage: 6.8+ MB\n"
     ]
    }
   ],
   "source": [
    "df.info()"
   ]
  },
  {
   "cell_type": "code",
   "execution_count": 7,
   "metadata": {},
   "outputs": [],
   "source": [
    "# Ajuste de tipo de variable para fecha de nacimiento\n",
    "df['ESTU_FECHANACIMIENTO'] = pd.to_datetime(df['ESTU_FECHANACIMIENTO'])"
   ]
  },
  {
   "cell_type": "markdown",
   "metadata": {},
   "source": [
    "#### 4. Revisar la columna fecha de nacimiento"
   ]
  },
  {
   "cell_type": "code",
   "execution_count": 8,
   "metadata": {},
   "outputs": [
    {
     "data": {
      "text/plain": [
       "count                            52664\n",
       "mean     1991-04-25 23:09:31.471973248\n",
       "min                1944-12-13 00:00:00\n",
       "25%                1988-04-23 00:00:00\n",
       "50%                1993-08-07 00:00:00\n",
       "75%                1996-03-16 00:00:00\n",
       "max                2024-01-16 00:00:00\n",
       "Name: ESTU_FECHANACIMIENTO, dtype: object"
      ]
     },
     "execution_count": 8,
     "metadata": {},
     "output_type": "execute_result"
    }
   ],
   "source": [
    "df['ESTU_FECHANACIMIENTO'].describe()"
   ]
  },
  {
   "cell_type": "code",
   "execution_count": 9,
   "metadata": {},
   "outputs": [
    {
     "data": {
      "image/png": "[encoded data removed]",
      "text/plain": [
       "<Figure size 640x480 with 1 Axes>"
      ]
     },
     "metadata": {},
     "output_type": "display_data"
    }
   ],
   "source": [
    "sns.histplot(data=df, x='ESTU_FECHANACIMIENTO', kde=True)  # El argumento kde=True agrega la estimación de densidad kernel\n",
    "plt.title('Distribucion de las fechas de nacimiento')\n",
    "plt.xlabel('Fechas')\n",
    "plt.ylabel('Frecuencia')\n",
    "plt.show()"
   ]
  },
  {
   "cell_type": "markdown",
   "metadata": {},
   "source": [
    "Se observa que hay datos atipicos, ya que hay fechas de nacimiento muy recientes, incluso superiores a la fecha actual, y la informacion proviene de programas de nivel tecnico y tecnologico."
   ]
  },
  {
   "cell_type": "code",
   "execution_count": 10,
   "metadata": {},
   "outputs": [],
   "source": [
    "df['EDAD_PRUEBA'] = (datetime.datetime(2016, 10, 9) - df['ESTU_FECHANACIMIENTO']).dt.days\n",
    "df['EDAD_PRUEBA'] = (df['EDAD_PRUEBA']/365.2425).round(0)"
   ]
  },
  {
   "cell_type": "markdown",
   "metadata": {},
   "source": [
    "#### 5. Revisar la variable Nivel de ingles"
   ]
  },
  {
   "cell_type": "code",
   "execution_count": 11,
   "metadata": {},
   "outputs": [
    {
     "data": {
      "text/plain": [
       "0         A2\n",
       "1         A2\n",
       "2         B1\n",
       "3         A1\n",
       "4        A1-\n",
       "        ... \n",
       "53035     A1\n",
       "53036     A1\n",
       "53037     A1\n",
       "53038     A1\n",
       "53039    A1-\n",
       "Name: MOD_INGLES_DESEM, Length: 52665, dtype: object"
      ]
     },
     "execution_count": 11,
     "metadata": {},
     "output_type": "execute_result"
    }
   ],
   "source": [
    "df['MOD_INGLES_DESEM']"
   ]
  },
  {
   "cell_type": "code",
   "execution_count": 12,
   "metadata": {},
   "outputs": [
    {
     "data": {
      "image/png": "[encoded data removed]",
      "text/plain": [
       "<Figure size 640x480 with 1 Axes>"
      ]
     },
     "metadata": {},
     "output_type": "display_data"
    }
   ],
   "source": [
    "sns.countplot(x=df['MOD_INGLES_DESEM'], order = df['MOD_INGLES_DESEM'].value_counts().sort_values(ascending=False).index)\n",
    "plt.title('Desempeño de Ingles')\n",
    "plt.xlabel('Desempeño')\n",
    "plt.ylabel('Frecuencia')\n",
    "plt.show()"
   ]
  },
  {
   "cell_type": "markdown",
   "metadata": {},
   "source": [
    "Se observa que la mayoria de estudiantes solo llegaron al nivel A1"
   ]
  },
  {
   "cell_type": "code",
   "execution_count": 13,
   "metadata": {},
   "outputs": [],
   "source": [
    "df['NIVEL_B1_B2'] = df['MOD_INGLES_DESEM'].apply(lambda x: 'CUMPLIO' if x in ['B1', 'B2'] else 'NO CUMPLIO')"
   ]
  },
  {
   "cell_type": "code",
   "execution_count": 14,
   "metadata": {},
   "outputs": [
    {
     "name": "stdout",
     "output_type": "stream",
     "text": [
      "El porcentaje que cumplió con la meta del Ministerio de Educacion fue: 13.98%\n"
     ]
    }
   ],
   "source": [
    "total_filas = len(df)\n",
    "cumplio_count = (df['NIVEL_B1_B2'] == 'CUMPLIO').sum()\n",
    "porcentaje_cumplio = (cumplio_count / total_filas) * 100\n",
    "print(f'El porcentaje que cumplió con la meta del Ministerio de Educacion fue: {porcentaje_cumplio:.2f}%')"
   ]
  }
 ],
 "metadata": {
  "kernelspec": {
   "display_name": "Python 3",
   "language": "python",
   "name": "python3"
  },
  "language_info": {
   "codemirror_mode": {
    "name": "ipython",
    "version": 3
   },
   "file_extension": ".py",
   "mimetype": "text/x-python",
   "name": "python",
   "nbconvert_exporter": "python",
   "pygments_lexer": "ipython3",
   "version": "3.11.4"
  },
  "orig_nbformat": 4
 },
 "nbformat": 4,
 "nbformat_minor": 2
}
