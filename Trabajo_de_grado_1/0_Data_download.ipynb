{
 "cells": [
  {
   "cell_type": "markdown",
   "metadata": {},
   "source": [
    "## Descarga Copernicus"
   ]
  },
  {
   "cell_type": "code",
   "execution_count": null,
   "metadata": {},
   "outputs": [],
   "source": [
    "import cdsapi\n",
    "c = cdsapi.Client()\n",
    "\n",
    "start_year = 2006\n",
    "end_year = 2007\n",
    " \n",
    "# Define the variable and format\n",
    "variable = '2m_relative_humidity'\n",
    "format_type = 'tgz'\n",
    " \n",
    "# Loop through the years and months\n",
    "for year in range(start_year, end_year + 1):\n",
    "    c.retrieve(\n",
    "        'sis-agrometeorological-indicators',\n",
    "        {\n",
    "            'version': '1_1',\n",
    "            'format': format_type,\n",
    "            'variable': variable,\n",
    "            'year': [str(year)],\n",
    "            'month': [\n",
    "                '01', '02', '03',\n",
    "                '04', '05', '06',\n",
    "                '07', '08', '09',\n",
    "                '10', '11', '12',\n",
    "            ],\n",
    "            'day': [\n",
    "                '01', '02', '03',\n",
    "                '04', '05', '06',\n",
    "                '07', '08', '09',\n",
    "                '10', '11', '12',\n",
    "                '13', '14', '15',\n",
    "                '16', '17', '18',\n",
    "                '19', '20', '21',\n",
    "                '22', '23', '24',\n",
    "                '25', '26', '27',\n",
    "                '28', '29', '30',\n",
    "                '31',\n",
    "            ],\n",
    "            'time': '12_00',\n",
    "            'statistic': '24_hour_maximum',\n",
    "        },\n",
    "        f'D:/OneDrive - CGIAR/CIAT/AgERA5_Download/Rel_hum_Global_{year}.tar.gz'\n",
    "    )"
   ]
  },
  {
   "cell_type": "markdown",
   "metadata": {},
   "source": [
    "## Descarga CHIRPS"
   ]
  },
  {
   "cell_type": "code",
   "execution_count": null,
   "metadata": {},
   "outputs": [],
   "source": [
    "from ftplib import FTP\n",
    "import os, sys, os.path\n",
    "\n",
    "ddir='D:/OneDrive - CGIAR/CIAT/CHIRPS_Download'\n",
    "\n",
    "ftp = FTP(\"data.chc.ucsb.edu\")\n",
    "ftp.login()\n",
    "\n",
    "directory = \"pub/org/chc/products/CHIRPS-2.0/global_daily/tifs/p05/2024/\"\n",
    "\n",
    "print ('Changing to ' + directory)\n",
    "ftp.cwd(directory)\n",
    "filenames = ftp.nlst()\n",
    "\n",
    "for filename in filenames:\n",
    "     local_filename = os.path.join(ddir, filename)\n",
    "     print(local_filename)\n",
    "     file = open(local_filename, 'wb')\n",
    "     ftp.retrbinary('RETR '+ filename, file.write)\n",
    "     file.close()\n",
    "\n",
    "ftp.quit()"
   ]
  }
 ],
 "metadata": {
  "language_info": {
   "name": "python"
  }
 },
 "nbformat": 4,
 "nbformat_minor": 2
}
